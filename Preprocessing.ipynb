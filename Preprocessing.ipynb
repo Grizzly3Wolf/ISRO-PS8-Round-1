{
  "nbformat": 4,
  "nbformat_minor": 0,
  "metadata": {
    "colab": {
      "provenance": [],
      "gpuType": "T4"
    },
    "kernelspec": {
      "name": "python3",
      "display_name": "Python 3"
    },
    "language_info": {
      "name": "python"
    },
    "accelerator": "GPU"
  },
  "cells": [
    {
      "cell_type": "markdown",
      "source": [
        "Importing Libraries"
      ],
      "metadata": {
        "id": "eIRHyJSsE5ZM"
      }
    },
    {
      "cell_type": "code",
      "source": [
        "!pip install rasterio"
      ],
      "metadata": {
        "colab": {
          "base_uri": "https://localhost:8080/"
        },
        "id": "OkJEHvNvpSxq",
        "outputId": "582451da-f16e-4f4a-ca68-fdaf19029ba2"
      },
      "execution_count": null,
      "outputs": [
        {
          "output_type": "stream",
          "name": "stdout",
          "text": [
            "Requirement already satisfied: rasterio in /usr/local/lib/python3.11/dist-packages (1.4.3)\n",
            "Requirement already satisfied: affine in /usr/local/lib/python3.11/dist-packages (from rasterio) (2.4.0)\n",
            "Requirement already satisfied: attrs in /usr/local/lib/python3.11/dist-packages (from rasterio) (25.3.0)\n",
            "Requirement already satisfied: certifi in /usr/local/lib/python3.11/dist-packages (from rasterio) (2025.6.15)\n",
            "Requirement already satisfied: click>=4.0 in /usr/local/lib/python3.11/dist-packages (from rasterio) (8.2.1)\n",
            "Requirement already satisfied: cligj>=0.5 in /usr/local/lib/python3.11/dist-packages (from rasterio) (0.7.2)\n",
            "Requirement already satisfied: numpy>=1.24 in /usr/local/lib/python3.11/dist-packages (from rasterio) (2.0.2)\n",
            "Requirement already satisfied: click-plugins in /usr/local/lib/python3.11/dist-packages (from rasterio) (1.1.1.2)\n",
            "Requirement already satisfied: pyparsing in /usr/local/lib/python3.11/dist-packages (from rasterio) (3.2.3)\n"
          ]
        }
      ]
    },
    {
      "cell_type": "markdown",
      "source": [
        "Loading Drive"
      ],
      "metadata": {
        "id": "NKcIWh62E-hY"
      }
    },
    {
      "cell_type": "code",
      "source": [
        "from google.colab import drive\n",
        "import os\n",
        "import shutil\n",
        "\n",
        "# Check if the mountpoint exists and is not empty\n",
        "mountpoint = '/content/drive'\n",
        "if os.path.exists(mountpoint) and os.listdir(mountpoint):\n",
        "  print(f\"Mountpoint {mountpoint} is not empty. Clearing contents...\")\n",
        "  for item in os.listdir(mountpoint):\n",
        "    item_path = os.path.join(mountpoint, item)\n",
        "    try:\n",
        "      if os.path.isfile(item_path) or os.path.islink(item_path):\n",
        "        os.unlink(item_path)\n",
        "      elif os.path.isdir(item_path):\n",
        "        shutil.rmtree(item_path)\n",
        "    except Exception as e:\n",
        "      print(f\"Error removing {item_path}: {e}\")\n",
        "\n",
        "drive.mount(mountpoint)"
      ],
      "metadata": {
        "colab": {
          "base_uri": "https://localhost:8080/"
        },
        "id": "4l-hx_eEFNhM",
        "outputId": "6613afba-a707-49ca-de3b-de6ac4bca147"
      },
      "execution_count": null,
      "outputs": [
        {
          "output_type": "stream",
          "name": "stdout",
          "text": [
            "Mounted at /content/drive\n"
          ]
        }
      ]
    },
    {
      "cell_type": "markdown",
      "source": [
        "Preprocessing Satellite Images and thier Respective Color Masks"
      ],
      "metadata": {
        "id": "GNUe1Uv8F0Nb"
      }
    },
    {
      "cell_type": "code",
      "execution_count": null,
      "metadata": {
        "colab": {
          "base_uri": "https://localhost:8080/"
        },
        "id": "5QfMVCYmntiX",
        "outputId": "4d47798f-fa33-4ae3-ad78-1c0fa744b2a5"
      },
      "outputs": [
        {
          "output_type": "stream",
          "name": "stderr",
          "text": [
            "\r  0%|          | 0/1606 [00:00<?, ?it/s]/usr/local/lib/python3.11/dist-packages/rasterio/__init__.py:356: NotGeoreferencedWarning: Dataset has no geotransform, gcps, or rpcs. The identity matrix will be returned.\n",
            "  dataset = DatasetReader(path, driver=driver, sharing=sharing, **kwargs)\n",
            "100%|██████████| 1606/1606 [49:23<00:00,  1.84s/it]\n"
          ]
        }
      ],
      "source": [
        "import os\n",
        "import numpy as np\n",
        "from PIL import Image\n",
        "import rasterio\n",
        "from tqdm import tqdm\n",
        "\n",
        "# === 1. Define Input and Output Directories ===\n",
        "input_dir = \"/content/drive/MyDrive/deep_globe/train\"\n",
        "output_dir = \"/content/drive/MyDrive/deep_globe/processed_npy\"\n",
        "os.makedirs(output_dir, exist_ok=True)\n",
        "\n",
        "# === 2. Define RGB Color → Class Index Mapping ===\n",
        "color_map = {\n",
        "    (0, 255, 255): 0,     # Urban land\n",
        "    (255, 255, 0): 1,     # Agriculture land\n",
        "    (255, 0, 255): 2,     # Rangeland\n",
        "    (0, 255, 0): 3,       # Forest land\n",
        "    (0, 0, 255): 4,       # Water\n",
        "    (255, 255, 255): 5,   # Barren land\n",
        "    (0, 0, 0): 6          # Unknown\n",
        "}\n",
        "\n",
        "# === 3. Convert RGB mask to class-indexed mask ===\n",
        "def convert_mask_to_label(mask_rgb):\n",
        "    label_mask = np.zeros((mask_rgb.shape[0], mask_rgb.shape[1]), dtype=np.uint8)\n",
        "    for color, class_id in color_map.items():\n",
        "        matches = np.all(mask_rgb == color, axis=-1)\n",
        "        label_mask[matches] = class_id\n",
        "    return label_mask\n",
        "\n",
        "# === 4. Process All Files ===\n",
        "for file in tqdm(sorted(os.listdir(input_dir))):\n",
        "    if \"_sat\" in file and file.lower().endswith((\".tif\", \".jpg\", \".png\")):\n",
        "        base = file.replace(\"_sat.tif\", \"\").replace(\"_sat.jpg\", \"\").replace(\"_sat.png\", \"\")\n",
        "        sat_path = os.path.join(input_dir, file)\n",
        "        mask_path = os.path.join(input_dir, f\"{base}_mask.png\")\n",
        "\n",
        "        if not os.path.exists(mask_path):\n",
        "            print(f\"Mask not found for: {file}\")\n",
        "            continue\n",
        "\n",
        "        # Read satellite image using Rasterio\n",
        "        try:\n",
        "            with rasterio.open(sat_path) as src:\n",
        "                img = src.read()  # shape: (bands, H, W)\n",
        "                img = np.transpose(img, (1, 2, 0))  # (H, W, C)\n",
        "        except Exception as e:\n",
        "            print(f\"Could not read image {sat_path}: {e}\")\n",
        "            continue\n",
        "\n",
        "        # Normalize image\n",
        "        img = img.astype(np.float32)\n",
        "        if img.max() > 1.0:\n",
        "            img /= 255.0\n",
        "\n",
        "        # Read and convert mask\n",
        "        try:\n",
        "            mask_rgb = np.array(Image.open(mask_path).convert(\"RGB\"))\n",
        "            label_mask = convert_mask_to_label(mask_rgb)\n",
        "        except Exception as e:\n",
        "            print(f\"Could not read/convert mask {mask_path}: {e}\")\n",
        "            continue\n",
        "\n",
        "        # Save .npy files\n",
        "        np.save(os.path.join(output_dir, f\"{base}_image.npy\"), img)\n",
        "        np.save(os.path.join(output_dir, f\"{base}_mask.npy\"), label_mask)"
      ]
    }
  ]
}